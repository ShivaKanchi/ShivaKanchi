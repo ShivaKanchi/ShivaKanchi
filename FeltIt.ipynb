{
  "nbformat": 4,
  "nbformat_minor": 0,
  "metadata": {
    "colab": {
      "name": "FeltIt.ipynb",
      "provenance": [],
      "collapsed_sections": [],
      "authorship_tag": "ABX9TyNr+Aq99Yd0zYrTiGxOemfK",
      "include_colab_link": true
    },
    "kernelspec": {
      "name": "python3",
      "display_name": "Python 3"
    },
    "language_info": {
      "name": "python"
    }
  },
  "cells": [
    {
      "cell_type": "markdown",
      "metadata": {
        "id": "view-in-github",
        "colab_type": "text"
      },
      "source": [
        "<a href=\"https://colab.research.google.com/github/ShivaKanchi/ShivaKanchi/blob/main/FeltIt.ipynb\" target=\"_parent\"><img src=\"https://colab.research.google.com/assets/colab-badge.svg\" alt=\"Open In Colab\"/></a>"
      ]
    },
    {
      "cell_type": "code",
      "execution_count": null,
      "metadata": {
        "id": "H1fC74vHVzgE"
      },
      "outputs": [],
      "source": [
        "name=input(\"Sir your name? \")\n",
        "she=input(\"And her name? //// ////\\n\")\n",
        "print(\"Okay \"+name+\", Answer these questions to know how you feel about them \")\n",
        "\n",
        "if input(\"Do you Like \"+she+\"? \") in {\"y\" , \"Yes\" , \"yes\"}:\n",
        "    like=True\n",
        "else:\n",
        "    like=False \n",
        "if input(\"Do you Love \"+she+\"? \") in {\"y\" , \"Yes\" , \"yes\"}:\n",
        "    love=True\n",
        "else:\n",
        "    love=False \n",
        "if input(\"Do you Hate \"+she+\"? \") in {\"y\" , \"Yes\" , \"yes\"}:\n",
        "    hate=True\n",
        "else:\n",
        "    hate=False\n",
        "\n",
        "if(like,love,hate)==(True,True,True):\n",
        "    print(\"Nigga... seek help and theray\")\n",
        "elif(like,love,hate)==(True,True,False):\n",
        "    print(\"Bro... This is Love\")\n",
        "elif(like,love,hate)==(True,False,False):\n",
        "    print(\"hehe... Stay away from \"+her+\" \")\n",
        "elif(like,love,hate)==(False,False,False):\n",
        "    print(\"You're Chad...\")\n",
        "elif(like,love,hate)==(False,False,True):\n",
        "    print(\"LetsGO.. This is Hate\")\n",
        "elif(like,love,hate)==(True,False,True):\n",
        "    print(\"Damn... This is Obession\") \n",
        "else:\n",
        "    print(\"That's Some Bullshit\")"
      ]
    }
  ]
}